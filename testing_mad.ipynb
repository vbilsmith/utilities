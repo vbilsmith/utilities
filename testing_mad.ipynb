{
 "cells": [
  {
   "cell_type": "code",
   "execution_count": 6,
   "id": "6dece361-8765-4ba7-a49c-b165b86356ee",
   "metadata": {},
   "outputs": [],
   "source": [
    "import os\n",
    "import pandas as pd\n",
    "import unittest\n"
   ]
  },
  {
   "cell_type": "code",
   "execution_count": 4,
   "id": "874d6f28-222e-46be-bf26-613c793110e1",
   "metadata": {},
   "outputs": [],
   "source": [
    "# function to calculate median absolute deviation\n",
    "def mad(x): \n",
    "    x_median = x.median(axis='columns', numeric_only=True)\n",
    "    abs_x_median_diff = abs(x.sub(x_median, axis='rows'))\n",
    "    return abs_x_median_diff.median(axis='columns', numeric_only=True)"
   ]
  },
  {
   "cell_type": "code",
   "execution_count": 13,
   "id": "c2b0136c",
   "metadata": {},
   "outputs": [
    {
     "data": {
      "text/plain": [
       "0    2.0\n",
       "1    0.0\n",
       "2    1.0\n",
       "3    1.0\n",
       "4    5.0\n",
       "5    3.0\n",
       "dtype: float64"
      ]
     },
     "execution_count": 13,
     "metadata": {},
     "output_type": "execute_result"
    }
   ],
   "source": [
    "mad(df_3)"
   ]
  },
  {
   "cell_type": "code",
   "execution_count": 10,
   "id": "783c5e83",
   "metadata": {},
   "outputs": [],
   "source": [
    "df_1 = pd.DataFrame([[3,5,10,20,15],\n",
    "[2,1,1,1,1],\n",
    "[2,2,3,5,5],\n",
    "[2,1,0,0,0],\n",
    "[10000,10,5,0,-5],\n",
    "[-1,-2,-3,-4,-5]])\n",
    "\n",
    "df_2 = pd.DataFrame([[1,2,10,2,15],\n",
    "[1,1,4,3,1],\n",
    "[2,3,3,4,5],\n",
    "[2,1,0,0,0],\n",
    "[100,0,5,0,-5],\n",
    "[-1,-4,-3,-4,-5]])\n",
    "\n",
    "df_3 = pd.DataFrame([[1,2,10,4,5],\n",
    "[1,1,2,2,1],\n",
    "[2,3,3,4,5],\n",
    "[2,1,2,3,0],\n",
    "[100,10,15,0,5],\n",
    "[-1,-1,3,-4,5]])"
   ]
  },
  {
   "cell_type": "code",
   "execution_count": 6,
   "id": "9fa6dce0",
   "metadata": {},
   "outputs": [],
   "source": [
    "\"\"\"Below, I'm just showing an example of how you might split this up into pieces\n",
    "to make testing easier. I have not run this and I am not totally sure how your\n",
    "function worked, so you will likely need to do some tweaking to get it to run.\n",
    "I would recommend starting with a function that just calculates the MAD for a single\n",
    "series (either row or column) and then once you have that working, you can expand\n",
    "it to run on a whole dataframe.\n",
    "\"\"\"\n",
    "\n",
    "def mad(series): \n",
    "  \"\"\"Function to calculate median absolute deviation for a Series\n",
    "  Parameters:[change below to match your function's requirements]\n",
    "  argument1 (int): Description of arg1\n",
    "\n",
    "  Returns: [change below to match your function]\n",
    "  int:Returning value\n",
    "  \"\"\"\n",
    "  overall_med = series.median(numeric_only=True)\n",
    "  abs_diff_vector = abs(series - overall_med)\n",
    "  return abs_diff_vector.median(axis='columns', numeric_only=True)"
   ]
  },
  {
   "cell_type": "code",
   "execution_count": 7,
   "id": "ba595efe",
   "metadata": {},
   "outputs": [],
   "source": [
    "def test_mad():\n",
    "  assert mad([0, 0, 0, 0]) == 0"
   ]
  },
  {
   "cell_type": "code",
   "execution_count": 3,
   "id": "c7341ea7-6d55-41b6-b076-bca1cb473454",
   "metadata": {},
   "outputs": [
    {
     "data": {
      "text/html": [
       "<div>\n",
       "<style scoped>\n",
       "    .dataframe tbody tr th:only-of-type {\n",
       "        vertical-align: middle;\n",
       "    }\n",
       "\n",
       "    .dataframe tbody tr th {\n",
       "        vertical-align: top;\n",
       "    }\n",
       "\n",
       "    .dataframe thead th {\n",
       "        text-align: right;\n",
       "    }\n",
       "</style>\n",
       "<table border=\"1\" class=\"dataframe\">\n",
       "  <thead>\n",
       "    <tr style=\"text-align: right;\">\n",
       "      <th></th>\n",
       "      <th>0</th>\n",
       "      <th>0.1</th>\n",
       "      <th>0.2</th>\n",
       "      <th>0.3</th>\n",
       "      <th>0.4</th>\n",
       "    </tr>\n",
       "  </thead>\n",
       "  <tbody>\n",
       "    <tr>\n",
       "      <th>0</th>\n",
       "      <td>1</td>\n",
       "      <td>1</td>\n",
       "      <td>1</td>\n",
       "      <td>1</td>\n",
       "      <td>1</td>\n",
       "    </tr>\n",
       "    <tr>\n",
       "      <th>1</th>\n",
       "      <td>2</td>\n",
       "      <td>2</td>\n",
       "      <td>3</td>\n",
       "      <td>4</td>\n",
       "      <td>4</td>\n",
       "    </tr>\n",
       "    <tr>\n",
       "      <th>2</th>\n",
       "      <td>5</td>\n",
       "      <td>0</td>\n",
       "      <td>0</td>\n",
       "      <td>0</td>\n",
       "      <td>0</td>\n",
       "    </tr>\n",
       "    <tr>\n",
       "      <th>3</th>\n",
       "      <td>10000</td>\n",
       "      <td>10</td>\n",
       "      <td>5</td>\n",
       "      <td>0</td>\n",
       "      <td>-5</td>\n",
       "    </tr>\n",
       "    <tr>\n",
       "      <th>4</th>\n",
       "      <td>-1</td>\n",
       "      <td>-2</td>\n",
       "      <td>-3</td>\n",
       "      <td>-4</td>\n",
       "      <td>-5</td>\n",
       "    </tr>\n",
       "  </tbody>\n",
       "</table>\n",
       "</div>"
      ],
      "text/plain": [
       "       0  0.1  0.2  0.3  0.4\n",
       "0      1    1    1    1    1\n",
       "1      2    2    3    4    4\n",
       "2      5    0    0    0    0\n",
       "3  10000   10    5    0   -5\n",
       "4     -1   -2   -3   -4   -5"
      ]
     },
     "execution_count": 3,
     "metadata": {},
     "output_type": "execute_result"
    }
   ],
   "source": [
    "filename = os.path.join('C:/Users/opara', 'utilities/testdata.csv')\n",
    "df = pd.read_csv(filename, header = 0)\n",
    "\n",
    "df"
   ]
  },
  {
   "cell_type": "code",
   "execution_count": 15,
   "id": "6cbd2c08-b741-4df0-a0a8-6e19ccfa3ce4",
   "metadata": {},
   "outputs": [
    {
     "data": {
      "text/plain": [
       "0    1.0\n",
       "1    3.0\n",
       "2    0.0\n",
       "3    5.0\n",
       "4   -3.0\n",
       "dtype: float64"
      ]
     },
     "execution_count": 15,
     "metadata": {},
     "output_type": "execute_result"
    }
   ],
   "source": [
    "# calculating the median of the data frame\n",
    "df_median = df.median(axis='columns', numeric_only=True)\n",
    "df_median"
   ]
  },
  {
   "cell_type": "code",
   "execution_count": 20,
   "id": "e904819d-d970-45d2-bab7-7c51ff8997ea",
   "metadata": {},
   "outputs": [
    {
     "data": {
      "text/html": [
       "<div>\n",
       "<style scoped>\n",
       "    .dataframe tbody tr th:only-of-type {\n",
       "        vertical-align: middle;\n",
       "    }\n",
       "\n",
       "    .dataframe tbody tr th {\n",
       "        vertical-align: top;\n",
       "    }\n",
       "\n",
       "    .dataframe thead th {\n",
       "        text-align: right;\n",
       "    }\n",
       "</style>\n",
       "<table border=\"1\" class=\"dataframe\">\n",
       "  <thead>\n",
       "    <tr style=\"text-align: right;\">\n",
       "      <th></th>\n",
       "      <th>0</th>\n",
       "      <th>0.1</th>\n",
       "      <th>0.2</th>\n",
       "      <th>0.3</th>\n",
       "      <th>0.4</th>\n",
       "    </tr>\n",
       "  </thead>\n",
       "  <tbody>\n",
       "    <tr>\n",
       "      <th>0</th>\n",
       "      <td>0.0</td>\n",
       "      <td>0.0</td>\n",
       "      <td>0.0</td>\n",
       "      <td>0.0</td>\n",
       "      <td>0.0</td>\n",
       "    </tr>\n",
       "    <tr>\n",
       "      <th>1</th>\n",
       "      <td>1.0</td>\n",
       "      <td>1.0</td>\n",
       "      <td>0.0</td>\n",
       "      <td>1.0</td>\n",
       "      <td>1.0</td>\n",
       "    </tr>\n",
       "    <tr>\n",
       "      <th>2</th>\n",
       "      <td>5.0</td>\n",
       "      <td>0.0</td>\n",
       "      <td>0.0</td>\n",
       "      <td>0.0</td>\n",
       "      <td>0.0</td>\n",
       "    </tr>\n",
       "    <tr>\n",
       "      <th>3</th>\n",
       "      <td>9995.0</td>\n",
       "      <td>5.0</td>\n",
       "      <td>0.0</td>\n",
       "      <td>5.0</td>\n",
       "      <td>10.0</td>\n",
       "    </tr>\n",
       "    <tr>\n",
       "      <th>4</th>\n",
       "      <td>2.0</td>\n",
       "      <td>1.0</td>\n",
       "      <td>0.0</td>\n",
       "      <td>1.0</td>\n",
       "      <td>2.0</td>\n",
       "    </tr>\n",
       "  </tbody>\n",
       "</table>\n",
       "</div>"
      ],
      "text/plain": [
       "        0  0.1  0.2  0.3   0.4\n",
       "0     0.0  0.0  0.0  0.0   0.0\n",
       "1     1.0  1.0  0.0  1.0   1.0\n",
       "2     5.0  0.0  0.0  0.0   0.0\n",
       "3  9995.0  5.0  0.0  5.0  10.0\n",
       "4     2.0  1.0  0.0  1.0   2.0"
      ]
     },
     "execution_count": 20,
     "metadata": {},
     "output_type": "execute_result"
    }
   ],
   "source": [
    "# subtract medians from data frame row by row\n",
    "abs_df_median_diff = abs(df.sub(df_median, axis='rows'))\n",
    "abs_df_median_diff"
   ]
  },
  {
   "cell_type": "code",
   "execution_count": 19,
   "id": "5e53382b",
   "metadata": {},
   "outputs": [
    {
     "data": {
      "text/plain": [
       "0    0.0\n",
       "1    1.0\n",
       "2    0.0\n",
       "3    5.0\n",
       "4    1.0\n",
       "dtype: float64"
      ]
     },
     "execution_count": 19,
     "metadata": {},
     "output_type": "execute_result"
    }
   ],
   "source": [
    "abs_df_median_diff.median(axis='columns', numeric_only=True)"
   ]
  }
 ],
 "metadata": {
  "kernelspec": {
   "display_name": "Python 3 (ipykernel)",
   "language": "python",
   "name": "python3"
  },
  "language_info": {
   "codemirror_mode": {
    "name": "ipython",
    "version": 3
   },
   "file_extension": ".py",
   "mimetype": "text/x-python",
   "name": "python",
   "nbconvert_exporter": "python",
   "pygments_lexer": "ipython3",
   "version": "3.11.9"
  }
 },
 "nbformat": 4,
 "nbformat_minor": 5
}
